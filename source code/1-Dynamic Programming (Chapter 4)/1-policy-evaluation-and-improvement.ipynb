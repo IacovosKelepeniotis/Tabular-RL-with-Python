{
 "cells": [
  {
   "cell_type": "markdown",
   "metadata": {},
   "source": [
    "# Policy Evaluation and Improvement\n",
    "- Algorithms from ```pp. 60 - 64``` in Sutton & Barto 2017\n",
    "- Policy evaluation and improvement of equiprobable random policy\n",
    "    - At each step, agent chooses one of (four) actions randomly, with same probability of 0.25"
   ]
  },
  {
   "cell_type": "code",
   "execution_count": 36,
   "metadata": {
    "collapsed": true
   },
   "outputs": [],
   "source": [
    "import matplotlib.pyplot as plt\n",
    "import pandas as pd\n",
    "import numpy as np\n",
    "import seaborn\n",
    "\n",
    "from gridWorldEnvironment import GridWorld"
   ]
  },
  {
   "cell_type": "code",
   "execution_count": 24,
   "metadata": {
    "collapsed": true
   },
   "outputs": [],
   "source": [
    "# creating gridworld environment\n",
    "gw = GridWorld(gamma = 1.0, theta = 0.5)"
   ]
  },
  {
   "cell_type": "markdown",
   "metadata": {},
   "source": [
    "### Create Policy\n",
    "- Create equiprobable random policy\n",
    "    - Function returns list of ```(action, probability)``` tuples"
   ]
  },
  {
   "cell_type": "code",
   "execution_count": 100,
   "metadata": {
    "collapsed": true,
    "scrolled": true
   },
   "outputs": [],
   "source": [
    "def pi(current_state, env):\n",
    "    possible_actions = []\n",
    "    for transition in env.transitions:\n",
    "        if current_state == transition[0]:\n",
    "            possible_actions.append(transition[1])\n",
    "    return [(action, 0.25) for action in possible_actions]"
   ]
  },
  {
   "cell_type": "markdown",
   "metadata": {},
   "source": [
    "### Create and initialize value array\n",
    "- Values in indices 0 and -1 are for terminal states ```((0,0) & (3,3))```"
   ]
  },
  {
   "cell_type": "code",
   "execution_count": 101,
   "metadata": {
    "collapsed": true
   },
   "outputs": [],
   "source": [
    "def value_array(env):\n",
    "    return np.zeros(len(env.states)+2)"
   ]
  },
  {
   "cell_type": "markdown",
   "metadata": {},
   "source": [
    "### Evaluate policy"
   ]
  },
  {
   "cell_type": "code",
   "execution_count": 102,
   "metadata": {
    "collapsed": true
   },
   "outputs": [],
   "source": [
    "def policy_evaluation(policy, env):\n",
    "    values = value_array(env)\n",
    "    i = 0\n",
    "    done = False\n",
    "    while not done:\n",
    "        delta = 0\n",
    "        for state in env.states:\n",
    "            v = values[state]\n",
    "            values[state] = 0\n",
    "            for action, prob in pi(state, env):\n",
    "                next_state, reward = env.state_transition(state, action)\n",
    "                values[state] += prob * (reward + env.gamma * values[next_state]) \n",
    "            delta = max(0, np.abs(v - values[state]))\n",
    "        i += 1\n",
    "            \n",
    "            # terminating condition\n",
    "            if delta < env.theta:\n",
    "                print(\"Policy evaluation terminated at {}the iteration\".format(i+1))\n",
    "                done = True\n",
    "    return values                "
   ]
  },
  {
   "cell_type": "code",
   "execution_count": 103,
   "metadata": {},
   "outputs": [
    {
     "name": "stdout",
     "output_type": "stream",
     "text": [
      "Policy evaluation terminated at 44the iteration\n",
      "Policy evaluation terminated at 46the iteration\n",
      "Policy evaluation terminated at 54the iteration\n",
      "Policy evaluation terminated at 57the iteration\n"
     ]
    }
   ],
   "source": [
    "values = policy_evaluation(pi, gw)"
   ]
  },
  {
   "cell_type": "code",
   "execution_count": 104,
   "metadata": {},
   "outputs": [
    {
     "data": {
      "text/plain": [
       "array([[ 0.        , -2.73356687, -3.53782288, -3.30113858],\n",
       "       [-3.73702736, -4.95649257, -5.38001152, -4.63903657],\n",
       "       [-5.11135046, -5.82649448, -5.63102014, -3.98245396],\n",
       "       [-4.62030546, -4.95780722, -4.0616456 ,  0.        ]])"
      ]
     },
     "execution_count": 104,
     "metadata": {},
     "output_type": "execute_result"
    }
   ],
   "source": [
    "# value array after policy evaluation\n",
    "values.reshape(4,4)"
   ]
  },
  {
   "cell_type": "markdown",
   "metadata": {},
   "source": [
    "### Visualizing values\n",
    "- Visualizing values in table\n",
    "    - lighter color in table means higher value for random policy"
   ]
  },
  {
   "cell_type": "code",
   "execution_count": 105,
   "metadata": {
    "collapsed": true
   },
   "outputs": [],
   "source": [
    "def show_values(values):\n",
    "    if values.shape != (4,4):\n",
    "        values = values.reshape(4,4)\n",
    "    ax = seaborn.heatmap(values, cmap = \"Blues_r\", annot = True, linecolor=\"#282828\", linewidths = 0.1)\n",
    "    plt.show()"
   ]
  },
  {
   "cell_type": "code",
   "execution_count": 106,
   "metadata": {},
   "outputs": [
    {
     "data": {
      "image/png": "[encoded data removed]",
      "text/plain": [
       "<matplotlib.figure.Figure at 0x1ebd968d630>"
      ]
     },
     "metadata": {},
     "output_type": "display_data"
    }
   ],
   "source": [
    "show_values(values)"
   ]
  },
  {
   "cell_type": "markdown",
   "metadata": {},
   "source": [
    "### Improve policy\n",
    "- ```policy_improvement()``` function performs one round of policy improvement (i.e., one update for each state)\n",
    "    - After one round of improvement, policy reaches near optimal (but not perfect)"
   ]
  },
  {
   "cell_type": "code",
   "execution_count": 128,
   "metadata": {
    "collapsed": true
   },
   "outputs": [],
   "source": [
    "# one round of policy improvement\n",
    "def policy_improvement(env, values):\n",
    "    new_policy = []\n",
    "    for state in env.states:\n",
    "        temp = []\n",
    "        for action in env.actions:\n",
    "            next_state, _ = env.state_transition(state, action)\n",
    "            temp.append(values[next_state])\n",
    "        temp = np.asarray(temp)\n",
    "        best_action = env.actions[np.argmax(temp)]\n",
    "        new_policy.append(best_action)\n",
    "    return new_policy"
   ]
  },
  {
   "cell_type": "code",
   "execution_count": 129,
   "metadata": {},
   "outputs": [
    {
     "name": "stdout",
     "output_type": "stream",
     "text": [
      "Policy evaluation terminated at 44the iteration\n",
      "Policy evaluation terminated at 46the iteration\n",
      "Policy evaluation terminated at 54the iteration\n",
      "Policy evaluation terminated at 57the iteration\n"
     ]
    }
   ],
   "source": [
    "values = policy_evaluation(pi, gw)\n",
    "new_pi = policy_improvement(gw, values)"
   ]
  },
  {
   "cell_type": "code",
   "execution_count": 130,
   "metadata": {},
   "outputs": [
    {
     "name": "stdout",
     "output_type": "stream",
     "text": [
      "[['T' 'L' 'L' 'U']\n",
      " ['U' 'U' 'U' 'U']\n",
      " ['U' 'U' 'R' 'D']\n",
      " ['D' 'R' 'R' 'T']]\n"
     ]
    }
   ],
   "source": [
    "# improved policy after one improvement\n",
    "new_pi.insert(0, \"T\")\n",
    "new_pi.append(\"T\")\n",
    "new_pi = np.asarray(new_pi)\n",
    "print(new_pi.reshape(4,4))"
   ]
  },
  {
   "cell_type": "markdown",
   "metadata": {},
   "source": [
    "### Visualizing policy\n",
    "- policy table with colors"
   ]
  },
  {
   "cell_type": "code",
   "execution_count": null,
   "metadata": {
    "collapsed": true
   },
   "outputs": [],
   "source": [
    "def show_policy(pi):\n",
    "    _pi = np.zeros(pi.shape)\n",
    "    for i in range(len(pi)):\n",
    "        if pi[i] == \"U\":\n",
    "            _pi[i] = 0.25\n",
    "        elif pi[i] == \"D\":\n",
    "            _pi[i] = 0.5\n",
    "        elif pi[i] == \"R\":\n",
    "            _pi[i] = 0.75\n",
    "        elif pi[i] == \"L\":\n",
    "            _pi[i] = 1.0\n",
    "        else:\n",
    "            _pi[i] = 0.0\n",
    "    _pi = _pi.reshape(4,4)\n",
    "    ax = seaborn.heatmap(_pi, cmap = \"prism\", linecolor=\"#282828\", cbar = False, linewidths = 0.1)\n",
    "    plt.show()"
   ]
  },
  {
   "cell_type": "code",
   "execution_count": 174,
   "metadata": {},
   "outputs": [
    {
     "data": {
      "image/png": "[encoded data removed]",
      "text/plain": [
       "<matplotlib.figure.Figure at 0x1ebd93f55f8>"
      ]
     },
     "metadata": {},
     "output_type": "display_data"
    }
   ],
   "source": [
    "### RED = TERMINAL (0)\n",
    "### GREEN = LEFT\n",
    "### BLUE = UP\n",
    "### PURPLE = RIGHT\n",
    "### ORANGE = DOWN\n",
    "\n",
    "show_policy(new_pi)"
   ]
  }
 ],
 "metadata": {
  "kernelspec": {
   "display_name": "Python 3",
   "language": "python",
   "name": "python3"
  },
  "language_info": {
   "codemirror_mode": {
    "name": "ipython",
    "version": 3
   },
   "file_extension": ".py",
   "mimetype": "text/x-python",
   "name": "python",
   "nbconvert_exporter": "python",
   "pygments_lexer": "ipython3",
   "version": "3.6.1"
  }
 },
 "nbformat": 4,
 "nbformat_minor": 2
}
