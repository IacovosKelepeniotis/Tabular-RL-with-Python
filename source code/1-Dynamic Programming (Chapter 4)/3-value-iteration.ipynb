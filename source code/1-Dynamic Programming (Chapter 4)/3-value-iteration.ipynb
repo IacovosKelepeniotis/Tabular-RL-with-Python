{
 "cells": [
  {
   "cell_type": "markdown",
   "metadata": {},
   "source": [
    "# Value Iteration\n",
    "- Algorithms from ```pp. 67 - 68``` in Sutton & Barto 2017\n",
    "- Outputs a deterministic policy $\\pi \\approx \\pi_*$ after termination"
   ]
  },
  {
   "cell_type": "code",
   "execution_count": 1,
   "metadata": {
    "collapsed": true
   },
   "outputs": [],
   "source": [
    "import matplotlib.pyplot as plt\n",
    "import pandas as pd\n",
    "import numpy as np\n",
    "import seaborn\n",
    "\n",
    "from gridWorldEnvironment import GridWorld"
   ]
  },
  {
   "cell_type": "code",
   "execution_count": 2,
   "metadata": {
    "collapsed": true
   },
   "outputs": [],
   "source": [
    "# creating gridworld environment\n",
    "gw = GridWorld(gamma = 1.0, theta = 0.5)"
   ]
  },
  {
   "cell_type": "markdown",
   "metadata": {},
   "source": [
    "### Create and initialize value array\n",
    "- Values in indices 0 and -1 are for terminal states ```((0,0)``` and ```(3,3))```"
   ]
  },
  {
   "cell_type": "code",
   "execution_count": 4,
   "metadata": {
    "collapsed": true
   },
   "outputs": [],
   "source": [
    "def value_array(env):\n",
    "    return np.zeros(len(env.states)+2)"
   ]
  },
  {
   "cell_type": "markdown",
   "metadata": {},
   "source": [
    "### Define policy evaluation & policy improvement\n",
    "- Prediction & improvement"
   ]
  },
  {
   "cell_type": "code",
   "execution_count": 14,
   "metadata": {
    "collapsed": true
   },
   "outputs": [],
   "source": [
    "# policy evalaution step for value iteration\n",
    "# slightly modified to consider any environment without initial policy\n",
    "def policy_evaluation(env):\n",
    "    values = value_array(env)\n",
    "    i = 0\n",
    "    done = False\n",
    "    while not done:\n",
    "        delta = 0\n",
    "        for state in env.states:\n",
    "            v = values[state]\n",
    "            temp = []\n",
    "            for action in env.actions:\n",
    "                next_state, reward = env.state_transition(state, action)\n",
    "                temp.append(reward + env.gamma * values[next_state])\n",
    "            values[state] = max(temp)\n",
    "            delta = max(delta, np.abs(v - values[state]))\n",
    "            \n",
    "            # terminating condition\n",
    "            if delta < env.theta:\n",
    "                print(\"Policy evaluation terminated at the {} th iteration\".format(i+1))\n",
    "                done = True\n",
    "            i += 1\n",
    "    return values                  "
   ]
  },
  {
   "cell_type": "code",
   "execution_count": 11,
   "metadata": {
    "collapsed": true
   },
   "outputs": [],
   "source": [
    "# policy improvement step\n",
    "def policy_improvement(env, values):\n",
    "    new_policy = []\n",
    "    for state in env.states:\n",
    "        temp = []\n",
    "        for action in env.actions:\n",
    "            next_state, _ = env.state_transition(state, action)\n",
    "            temp.append(values[next_state])\n",
    "        temp = np.asarray(temp)\n",
    "        best_action = env.actions[np.argmax(temp)]\n",
    "        new_policy.append(best_action)\n",
    "    return new_policy"
   ]
  },
  {
   "cell_type": "code",
   "execution_count": 17,
   "metadata": {
    "collapsed": true
   },
   "outputs": [],
   "source": [
    "def value_iteration(env):\n",
    "    values = policy_evaluation(env)\n",
    "    new_policy = policy_improvement(env, values)\n",
    "    \n",
    "    return values, new_policy    "
   ]
  },
  {
   "cell_type": "code",
   "execution_count": 18,
   "metadata": {},
   "outputs": [
    {
     "name": "stdout",
     "output_type": "stream",
     "text": [
      "Policy evaluation terminated at 15the iteration\n"
     ]
    }
   ],
   "source": [
    "values, final_policy = value_iteration(gw)"
   ]
  },
  {
   "cell_type": "code",
   "execution_count": 19,
   "metadata": {},
   "outputs": [
    {
     "data": {
      "text/plain": [
       "array([['T', 'L', 'L', 'U'],\n",
       "       ['U', 'U', 'U', 'D'],\n",
       "       ['U', 'U', 'D', 'D'],\n",
       "       ['U', 'R', 'R', '0']],\n",
       "      dtype='<U1')"
      ]
     },
     "execution_count": 19,
     "metadata": {},
     "output_type": "execute_result"
    }
   ],
   "source": [
    "# final policy obtained\n",
    "final_policy.insert(0, \"T\")\n",
    "final_policy.append(0)\n",
    "final_policy = np.asarray(final_policy)\n",
    "\n",
    "final_policy.reshape(4,4)"
   ]
  },
  {
   "cell_type": "code",
   "execution_count": 20,
   "metadata": {},
   "outputs": [
    {
     "data": {
      "text/plain": [
       "array([[ 0., -1., -2., -2.],\n",
       "       [-1., -2., -2., -2.],\n",
       "       [-2., -2., -2., -1.],\n",
       "       [-2., -2., -1.,  0.]])"
      ]
     },
     "execution_count": 20,
     "metadata": {},
     "output_type": "execute_result"
    }
   ],
   "source": [
    "# final values\n",
    "np.asarray(values).reshape(4,4)"
   ]
  },
  {
   "cell_type": "markdown",
   "metadata": {},
   "source": [
    "### Visualizing values\n",
    "- Visualizing values in table\n",
    "    - lighter color in table means higher value for random policy"
   ]
  },
  {
   "cell_type": "code",
   "execution_count": 21,
   "metadata": {
    "collapsed": true
   },
   "outputs": [],
   "source": [
    "def show_values(values):\n",
    "    values = values.reshape(4,4)\n",
    "    ax = seaborn.heatmap(values, cmap = \"Blues_r\", annot = True, linecolor=\"#282828\", linewidths = 0.1)\n",
    "    plt.show()"
   ]
  },
  {
   "cell_type": "code",
   "execution_count": 22,
   "metadata": {},
   "outputs": [
    {
     "data": {
      "image/png": "[encoded data removed]",
      "text/plain": [
       "<matplotlib.figure.Figure at 0x1e468b896a0>"
      ]
     },
     "metadata": {},
     "output_type": "display_data"
    }
   ],
   "source": [
    "show_values(values)"
   ]
  },
  {
   "cell_type": "markdown",
   "metadata": {},
   "source": [
    "### Visualizing policy"
   ]
  },
  {
   "cell_type": "code",
   "execution_count": 23,
   "metadata": {
    "collapsed": true
   },
   "outputs": [],
   "source": [
    "def show_policy(pi):\n",
    "    _pi = np.zeros(pi.shape)\n",
    "    for i in range(len(pi)):\n",
    "        if pi[i] == \"U\":\n",
    "            _pi[i] = 0.25\n",
    "        elif pi[i] == \"D\":\n",
    "            _pi[i] = 0.5\n",
    "        elif pi[i] == \"R\":\n",
    "            _pi[i] = 0.75\n",
    "        elif pi[i] == \"L\":\n",
    "            _pi[i] = 1.0\n",
    "        else:\n",
    "            _pi[i] = 0.0\n",
    "    _pi = _pi.reshape(4,4)\n",
    "    ax = seaborn.heatmap(_pi, cmap = \"prism\", linecolor=\"#282828\", cbar = False, linewidths = 0.1)\n",
    "    plt.show()"
   ]
  },
  {
   "cell_type": "code",
   "execution_count": 24,
   "metadata": {},
   "outputs": [
    {
     "data": {
      "image/png": "[encoded data removed]",
      "text/plain": [
       "<matplotlib.figure.Figure at 0x1e46bd7ff98>"
      ]
     },
     "metadata": {},
     "output_type": "display_data"
    }
   ],
   "source": [
    "### RED = TERMINAL (0)\n",
    "### GREEN = LEFT\n",
    "### BLUE = UP\n",
    "### PURPLE = RIGHT\n",
    "### ORANGE = DOWN\n",
    "\n",
    "show_policy(final_policy)"
   ]
  }
 ],
 "metadata": {
  "kernelspec": {
   "display_name": "Python 3",
   "language": "python",
   "name": "python3"
  },
  "language_info": {
   "codemirror_mode": {
    "name": "ipython",
    "version": 3
   },
   "file_extension": ".py",
   "mimetype": "text/x-python",
   "name": "python",
   "nbconvert_exporter": "python",
   "pygments_lexer": "ipython3",
   "version": "3.6.1"
  }
 },
 "nbformat": 4,
 "nbformat_minor": 2
}
