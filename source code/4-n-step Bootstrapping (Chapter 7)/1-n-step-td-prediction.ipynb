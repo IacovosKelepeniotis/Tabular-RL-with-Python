{
 "cells": [
  {
   "cell_type": "markdown",
   "metadata": {},
   "source": [
    "# $n$-step TD prediction\n",
    "- Algorithms from ```pp. 115 - 118``` in Sutton & Barto 2017"
   ]
  },
  {
   "cell_type": "code",
   "execution_count": 106,
   "metadata": {
    "collapsed": true
   },
   "outputs": [],
   "source": [
    "import matplotlib.pyplot as plt\n",
    "import pandas as pd\n",
    "import numpy as np\n",
    "import seaborn\n",
    "\n",
    "from gridWorldEnvironment import GridWorld"
   ]
  },
  {
   "cell_type": "code",
   "execution_count": 108,
   "metadata": {
    "collapsed": true
   },
   "outputs": [],
   "source": [
    "# creating gridworld environment\n",
    "gw = GridWorld(gamma = .9, theta = .5)"
   ]
  },
  {
   "cell_type": "code",
   "execution_count": 109,
   "metadata": {
    "collapsed": true
   },
   "outputs": [],
   "source": [
    "def initialize_values(env):\n",
    "    V = dict()\n",
    "    for state in env.states:\n",
    "        V[state] = np.random.normal()\n",
    "    return V"
   ]
  },
  {
   "cell_type": "code",
   "execution_count": 110,
   "metadata": {
    "collapsed": true
   },
   "outputs": [],
   "source": [
    "def generate_random_policy(env):\n",
    "    pi = dict()\n",
    "    for state in env.states:\n",
    "        actions = []\n",
    "        prob = []\n",
    "        for action in env.actions:\n",
    "            actions.append(action)\n",
    "            prob.append(0.25)\n",
    "        pi[state] = (actions, prob)\n",
    "    return pi"
   ]
  },
  {
   "cell_type": "markdown",
   "metadata": {},
   "source": [
    "### $n$-step TD Prediction\n",
    "- Look ahead $n$ steps, and bootstraps"
   ]
  },
  {
   "cell_type": "code",
   "execution_count": 117,
   "metadata": {
    "collapsed": true
   },
   "outputs": [],
   "source": [
    "def n_step_td_prediction(env, alpha = .5, n = 3, num_iter = 100):\n",
    "    V = initialize_values(env)\n",
    "    pi = generate_random_policy(env)\n",
    "    \n",
    "    for _ in range(num_iter):\n",
    "        state_trace, action_trace, reward_trace = list(), list(), list()\n",
    "        current_state = np.random.choice(env.states)\n",
    "        state_trace.append(current_state)\n",
    "        t, T = 0, 10000\n",
    "        while True:\n",
    "            if t < T:\n",
    "                action = np.random.choice(pi[current_state][0], p = pi[current_state][1])\n",
    "                action_trace.append(action)\n",
    "                next_state, reward = env.state_transition(current_state, action)\n",
    "                state_trace.append(next_state)\n",
    "                reward_trace.append(reward)\n",
    "                if next_state == 0:\n",
    "                    T = t + 1\n",
    "                    \n",
    "            tau = t - n + 1   # tau designates the time step of estimate being update\n",
    "            if tau >= 0:\n",
    "                \n",
    "                G = 0\n",
    "                for i in range(tau+1, min([tau+n, T]) + 1):\n",
    "                    G += (env.gamma ** (i - tau - 1)) * reward_trace[i-1]\n",
    "                if tau + n < T: \n",
    "                    G += (env.gamma ** n) * V[state_trace[tau + n]]\n",
    "                V[state_trace[tau]] += alpha * (G - V[state_trace[tau]])\n",
    "            \n",
    "            # terminating condition\n",
    "            if tau == (T - 1):\n",
    "                break\n",
    "            current_state = next_state\n",
    "            t += 1\n",
    "    return V"
   ]
  },
  {
   "cell_type": "code",
   "execution_count": 118,
   "metadata": {
    "collapsed": true,
    "scrolled": true
   },
   "outputs": [],
   "source": [
    "values = n_step_td_prediction(gw, num_iter = 10000)"
   ]
  },
  {
   "cell_type": "code",
   "execution_count": 114,
   "metadata": {},
   "outputs": [
    {
     "data": {
      "text/plain": [
       "{1: -1.7083524522467743,\n",
       " 2: -3.384669031118295,\n",
       " 3: -6.3130036218726175,\n",
       " 4: -7.224487497221493,\n",
       " 5: -3.689444374663678,\n",
       " 6: -4.892218733380336,\n",
       " 7: -6.191029070771764,\n",
       " 8: -6.703845722403963,\n",
       " 9: -6.536810152365546,\n",
       " 10: -6.9826892306047394,\n",
       " 11: -6.854237938982721,\n",
       " 12: -8.180594502392179,\n",
       " 13: -5.206740616869417,\n",
       " 14: -1.8203383854111006}"
      ]
     },
     "execution_count": 114,
     "metadata": {},
     "output_type": "execute_result"
    }
   ],
   "source": [
    "values"
   ]
  },
  {
   "cell_type": "code",
   "execution_count": 119,
   "metadata": {
    "collapsed": true
   },
   "outputs": [],
   "source": [
    "def show_values(V):\n",
    "    env = GridWorld()\n",
    "    values = np.zeros(len(env.states) + 2)    \n",
    "    for k in V.keys():\n",
    "        values[k] = V[k]\n",
    "    values = values.reshape(4,4)\n",
    "    ax = seaborn.heatmap(values, cmap = \"Blues_r\", annot = True, linecolor=\"#282828\", linewidths = 0.1)\n",
    "    plt.show()"
   ]
  },
  {
   "cell_type": "code",
   "execution_count": 120,
   "metadata": {},
   "outputs": [
    {
     "data": {
      "image/png": "[encoded data removed]",
      "text/plain": [
       "<matplotlib.figure.Figure at 0x19e60d19cc0>"
      ]
     },
     "metadata": {},
     "output_type": "display_data"
    }
   ],
   "source": [
    "show_values(values)"
   ]
  }
 ],
 "metadata": {
  "kernelspec": {
   "display_name": "Python 3",
   "language": "python",
   "name": "python3"
  },
  "language_info": {
   "codemirror_mode": {
    "name": "ipython",
    "version": 3
   },
   "file_extension": ".py",
   "mimetype": "text/x-python",
   "name": "python",
   "nbconvert_exporter": "python",
   "pygments_lexer": "ipython3",
   "version": "3.6.1"
  }
 },
 "nbformat": 4,
 "nbformat_minor": 2
}
