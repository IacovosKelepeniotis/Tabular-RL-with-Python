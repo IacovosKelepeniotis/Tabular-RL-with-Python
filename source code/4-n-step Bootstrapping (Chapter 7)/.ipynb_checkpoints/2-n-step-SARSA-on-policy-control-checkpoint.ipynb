{
 "cells": [
  {
   "cell_type": "markdown",
   "metadata": {},
   "source": [
    "# $n$-step SARSA\n",
    "- Algorithms from ```pp. 119 - 120``` in Sutton & Barto 2017"
   ]
  },
  {
   "cell_type": "code",
   "execution_count": 1,
   "metadata": {
    "collapsed": true
   },
   "outputs": [],
   "source": [
    "import matplotlib.pyplot as plt\n",
    "import pandas as pd\n",
    "import numpy as np\n",
    "import seaborn, random\n",
    "\n",
    "from gridWorldEnvironment import GridWorld"
   ]
  },
  {
   "cell_type": "code",
   "execution_count": 3,
   "metadata": {
    "collapsed": true
   },
   "outputs": [],
   "source": [
    "# creating gridworld environment\n",
    "gw = GridWorld(gamma = .9)"
   ]
  },
  {
   "cell_type": "code",
   "execution_count": 59,
   "metadata": {
    "collapsed": true
   },
   "outputs": [],
   "source": [
    "def state_action_value(env):\n",
    "    q = dict()\n",
    "    for state, action, next_state, reward in env.transitions:\n",
    "        q[(state, action)] = np.random.normal()\n",
    "    return q"
   ]
  },
  {
   "cell_type": "code",
   "execution_count": 60,
   "metadata": {
    "scrolled": true
   },
   "outputs": [
    {
     "data": {
      "text/plain": [
       "{(1, 'D'): -0.7030356916846013,\n",
       " (1, 'L'): -0.324895205360978,\n",
       " (1, 'R'): -1.1734677062639605,\n",
       " (1, 'U'): -0.16629963855724197,\n",
       " (2, 'D'): -0.23584377637184736,\n",
       " (2, 'L'): 1.4901073639401272,\n",
       " (2, 'R'): 0.6934460377797941,\n",
       " (2, 'U'): 0.8636095279329232,\n",
       " (3, 'D'): -1.609655563626268,\n",
       " (3, 'L'): 0.9311445594943784,\n",
       " (3, 'R'): 0.8985239654154085,\n",
       " (3, 'U'): -0.4080380875477237,\n",
       " (4, 'D'): -0.17538315728764214,\n",
       " (4, 'L'): -1.2559883445535147,\n",
       " (4, 'R'): -0.8940561790577116,\n",
       " (4, 'U'): 0.21171585977065896,\n",
       " (5, 'D'): 0.22188493818420746,\n",
       " (5, 'L'): 0.2624753401534311,\n",
       " (5, 'R'): -0.47795119564774396,\n",
       " (5, 'U'): 1.4805795529303916,\n",
       " (6, 'D'): -0.9419847476859503,\n",
       " (6, 'L'): -1.2209175101970824,\n",
       " (6, 'R'): 0.39723157885321236,\n",
       " (6, 'U'): 0.9834147564834003,\n",
       " (7, 'D'): 0.6846683809603875,\n",
       " (7, 'L'): -3.065126625005005,\n",
       " (7, 'R'): -0.9160309917151935,\n",
       " (7, 'U'): 0.6802182059638696,\n",
       " (8, 'D'): -2.079437344850202,\n",
       " (8, 'L'): -0.7871927916410061,\n",
       " (8, 'R'): 0.05422301115908965,\n",
       " (8, 'U'): -0.3719669376829563,\n",
       " (9, 'D'): 0.7168977139674119,\n",
       " (9, 'L'): -0.9203614384252929,\n",
       " (9, 'R'): -0.02171286359518462,\n",
       " (9, 'U'): 0.7715779552124056,\n",
       " (10, 'D'): -0.3829133127865197,\n",
       " (10, 'L'): 0.37456870550391924,\n",
       " (10, 'R'): 1.9331952589125025,\n",
       " (10, 'U'): -0.8416217832093862,\n",
       " (11, 'D'): -0.6215265359549603,\n",
       " (11, 'L'): 0.2577485614406314,\n",
       " (11, 'R'): 1.6237960742580893,\n",
       " (11, 'U'): -2.215032302441923,\n",
       " (12, 'D'): -0.12021109028974186,\n",
       " (12, 'L'): 0.1799993340884875,\n",
       " (12, 'R'): -0.19649725248693356,\n",
       " (12, 'U'): -0.873336849248908,\n",
       " (13, 'D'): 0.3872626481962563,\n",
       " (13, 'L'): 1.477848159613166,\n",
       " (13, 'R'): -0.5006331850401944,\n",
       " (13, 'U'): 0.42855578341556333,\n",
       " (14, 'D'): 0.5288272721071394,\n",
       " (14, 'L'): 1.0695144596153465,\n",
       " (14, 'R'): 2.0397741046686506,\n",
       " (14, 'U'): 0.6012823125125923}"
      ]
     },
     "execution_count": 60,
     "metadata": {},
     "output_type": "execute_result"
    }
   ],
   "source": [
    "state_action_value(gw)"
   ]
  },
  {
   "cell_type": "code",
   "execution_count": 5,
   "metadata": {
    "collapsed": true
   },
   "outputs": [],
   "source": [
    "def generate_greedy_policy(env, Q):\n",
    "    pi = dict()\n",
    "    for state in env.states:\n",
    "        actions = []\n",
    "        q_values = []\n",
    "        prob = []\n",
    "        \n",
    "        for a in env.actions:\n",
    "            actions.append(a)\n",
    "            q_values.append(Q[state,a])   \n",
    "        for i in range(len(q_values)):\n",
    "            if i == np.argmax(q_values):\n",
    "                prob.append(1)\n",
    "            else:\n",
    "                prob.append(0)       \n",
    "                \n",
    "        pi[state] = (actions, prob)\n",
    "    return pi"
   ]
  },
  {
   "cell_type": "code",
   "execution_count": 6,
   "metadata": {
    "collapsed": true
   },
   "outputs": [],
   "source": [
    "def e_greedy(env, e, q, state):\n",
    "    actions = env.actions\n",
    "    action_values = []\n",
    "    prob = []\n",
    "    for action in actions:\n",
    "        action_values.append(q[(state, action)])\n",
    "    for i in range(len(action_values)):\n",
    "        if i == np.argmax(action_values):\n",
    "            prob.append(1 - e + e/len(action_values))\n",
    "        else:\n",
    "            prob.append(e/len(action_values))\n",
    "    return actions, prob"
   ]
  },
  {
   "cell_type": "code",
   "execution_count": 7,
   "metadata": {
    "collapsed": true
   },
   "outputs": [],
   "source": [
    "# e-greedy policy is an extension of e_greedy()\n",
    "def generate_e_greedy_policy(env, e, Q):\n",
    "    pi = dict()\n",
    "    for state in env.states:\n",
    "        pi[state] = e_greedy(env, e, Q, state)\n",
    "    return pi"
   ]
  },
  {
   "cell_type": "code",
   "execution_count": 8,
   "metadata": {},
   "outputs": [
    {
     "data": {
      "text/plain": [
       "{1: (('U', 'D', 'L', 'R'), [0.025, 0.025, 0.925, 0.025]),\n",
       " 2: (('U', 'D', 'L', 'R'), [0.025, 0.025, 0.925, 0.025]),\n",
       " 3: (('U', 'D', 'L', 'R'), [0.025, 0.025, 0.925, 0.025]),\n",
       " 4: (('U', 'D', 'L', 'R'), [0.025, 0.025, 0.025, 0.925]),\n",
       " 5: (('U', 'D', 'L', 'R'), [0.025, 0.025, 0.925, 0.025]),\n",
       " 6: (('U', 'D', 'L', 'R'), [0.025, 0.925, 0.025, 0.025]),\n",
       " 7: (('U', 'D', 'L', 'R'), [0.025, 0.025, 0.925, 0.025]),\n",
       " 8: (('U', 'D', 'L', 'R'), [0.025, 0.925, 0.025, 0.025]),\n",
       " 9: (('U', 'D', 'L', 'R'), [0.025, 0.925, 0.025, 0.025]),\n",
       " 10: (('U', 'D', 'L', 'R'), [0.025, 0.025, 0.025, 0.925]),\n",
       " 11: (('U', 'D', 'L', 'R'), [0.925, 0.025, 0.025, 0.025]),\n",
       " 12: (('U', 'D', 'L', 'R'), [0.025, 0.925, 0.025, 0.025]),\n",
       " 13: (('U', 'D', 'L', 'R'), [0.025, 0.025, 0.925, 0.025]),\n",
       " 14: (('U', 'D', 'L', 'R'), [0.025, 0.025, 0.025, 0.925])}"
      ]
     },
     "execution_count": 8,
     "metadata": {},
     "output_type": "execute_result"
    }
   ],
   "source": [
    "generate_e_greedy_policy(gw, 0.1, state_action_value(gw))"
   ]
  },
  {
   "cell_type": "markdown",
   "metadata": {
    "collapsed": true
   },
   "source": [
    "### $n$-step SARSA: On-policy TD Control"
   ]
  },
  {
   "cell_type": "code",
   "execution_count": 61,
   "metadata": {
    "collapsed": true
   },
   "outputs": [],
   "source": [
    "def n_step_sarsa(env, epsilon, alpha, n, num_iter, learn_pi = True):\n",
    "    Q = state_action_value(env)\n",
    "    pi = generate_e_greedy_policy(env, epsilon, Q)\n",
    "    for _ in range(num_iter):\n",
    "        current_state = np.random.choice(env.states)\n",
    "        action = np.random.choice(pi[current_state][0], p = pi[current_state][1])\n",
    "        state_trace, action_trace, reward_trace  = [current_state], [action], [0]\n",
    "        t, T = 0, 10000\n",
    "        while True:\n",
    "            if t < T:    \n",
    "                next_state, reward = env.state_transition(current_state, action)\n",
    "                state_trace.append(next_state)\n",
    "                reward_trace.append(reward)\n",
    "                if next_state == 0:\n",
    "                    T = t + 1\n",
    "                else:  \n",
    "                    action = np.random.choice(pi[next_state][0], p = pi[next_state][1])\n",
    "                    action_trace.append(action)\n",
    "                    \n",
    "            tau = t - n + 1   # tau designates the time step of estimate being update\n",
    "            if tau >= 0:\n",
    "                G = 0\n",
    "                for i in range(tau + 1, min([tau + n, T]) + 1):\n",
    "                    G += (env.gamma ** (i - tau - 1)) * reward_trace[i-1]\n",
    "                if tau + n < T:\n",
    "                    G += (env.gamma ** n) * Q[state_trace[tau + n], action_trace[tau + n]]\n",
    "                Q[state_trace[tau], action_trace[tau]] += alpha * (G - Q[state_trace[tau], action_trace[tau]])\n",
    "                \n",
    "                # current policy, pi, can be learned each step, or not\n",
    "                if learn_pi:\n",
    "                    pi[state_trace[tau]] = e_greedy(env, epsilon, Q, state_trace[tau])\n",
    "            current_state = next_state    \n",
    "            \n",
    "            if tau == (T-1):\n",
    "                break\n",
    "            t += 1\n",
    "            \n",
    "    return pi, Q"
   ]
  },
  {
   "cell_type": "code",
   "execution_count": 62,
   "metadata": {
    "collapsed": true
   },
   "outputs": [],
   "source": [
    "pi, Q = n_step_sarsa(gw, 0.2, 0.5, 3, 1000)"
   ]
  },
  {
   "cell_type": "code",
   "execution_count": 63,
   "metadata": {},
   "outputs": [
    {
     "data": {
      "text/plain": [
       "{1: (('U', 'D', 'L', 'R'), [0.05, 0.05, 0.8500000000000001, 0.05]),\n",
       " 2: (('U', 'D', 'L', 'R'), [0.05, 0.05, 0.8500000000000001, 0.05]),\n",
       " 3: (('U', 'D', 'L', 'R'), [0.05, 0.8500000000000001, 0.05, 0.05]),\n",
       " 4: (('U', 'D', 'L', 'R'), [0.8500000000000001, 0.05, 0.05, 0.05]),\n",
       " 5: (('U', 'D', 'L', 'R'), [0.8500000000000001, 0.05, 0.05, 0.05]),\n",
       " 6: (('U', 'D', 'L', 'R'), [0.05, 0.8500000000000001, 0.05, 0.05]),\n",
       " 7: (('U', 'D', 'L', 'R'), [0.05, 0.8500000000000001, 0.05, 0.05]),\n",
       " 8: (('U', 'D', 'L', 'R'), [0.8500000000000001, 0.05, 0.05, 0.05]),\n",
       " 9: (('U', 'D', 'L', 'R'), [0.05, 0.8500000000000001, 0.05, 0.05]),\n",
       " 10: (('U', 'D', 'L', 'R'), [0.05, 0.05, 0.05, 0.8500000000000001]),\n",
       " 11: (('U', 'D', 'L', 'R'), [0.05, 0.8500000000000001, 0.05, 0.05]),\n",
       " 12: (('U', 'D', 'L', 'R'), [0.05, 0.05, 0.05, 0.8500000000000001]),\n",
       " 13: (('U', 'D', 'L', 'R'), [0.05, 0.05, 0.05, 0.8500000000000001]),\n",
       " 14: (('U', 'D', 'L', 'R'), [0.05, 0.05, 0.05, 0.8500000000000001])}"
      ]
     },
     "execution_count": 63,
     "metadata": {},
     "output_type": "execute_result"
    }
   ],
   "source": [
    "pi"
   ]
  },
  {
   "cell_type": "markdown",
   "metadata": {},
   "source": [
    "### Visualizing policy"
   ]
  },
  {
   "cell_type": "code",
   "execution_count": 65,
   "metadata": {
    "collapsed": true
   },
   "outputs": [],
   "source": [
    "def show_policy(pi, env):\n",
    "    temp = np.zeros(len(env.states) + 2)\n",
    "    for s in env.states:\n",
    "        a = pi[s][0][np.argmax(pi[s][1])]\n",
    "        if a == \"U\":\n",
    "            temp[s] = 0.25\n",
    "        elif a == \"D\":\n",
    "            temp[s] = 0.5\n",
    "        elif a == \"R\":\n",
    "            temp[s] = 0.75\n",
    "        else:\n",
    "            temp[s] = 1.0\n",
    "            \n",
    "    temp = temp.reshape(4,4)\n",
    "    ax = seaborn.heatmap(temp, cmap = \"prism\", linecolor=\"#282828\", cbar = False, linewidths = 0.1)\n",
    "    plt.show()"
   ]
  },
  {
   "cell_type": "code",
   "execution_count": 66,
   "metadata": {},
   "outputs": [
    {
     "data": {
      "image/png": "[encoded data removed]",
      "text/plain": [
       "<matplotlib.figure.Figure at 0x1e6f97812e8>"
      ]
     },
     "metadata": {},
     "output_type": "display_data"
    }
   ],
   "source": [
    "### RED = TERMINAL (0)\n",
    "### GREEN = LEFT\n",
    "### BLUE = UP\n",
    "### PURPLE = RIGHT\n",
    "### ORANGE = DOWN\n",
    "\n",
    "show_policy(pi, gw)"
   ]
  }
 ],
 "metadata": {
  "kernelspec": {
   "display_name": "Python 3",
   "language": "python",
   "name": "python3"
  },
  "language_info": {
   "codemirror_mode": {
    "name": "ipython",
    "version": 3
   },
   "file_extension": ".py",
   "mimetype": "text/x-python",
   "name": "python",
   "nbconvert_exporter": "python",
   "pygments_lexer": "ipython3",
   "version": "3.6.1"
  }
 },
 "nbformat": 4,
 "nbformat_minor": 2
}
