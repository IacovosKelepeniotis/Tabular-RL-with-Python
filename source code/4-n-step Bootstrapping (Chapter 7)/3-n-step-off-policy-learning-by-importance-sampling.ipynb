{
 "cells": [
  {
   "cell_type": "markdown",
   "metadata": {},
   "source": [
    "# $n$-step off-policy learning by importance sampling\n",
    "- Algorithms from ```pp. 121 - 122``` in Sutton & Barto 2017"
   ]
  },
  {
   "cell_type": "code",
   "execution_count": 1,
   "metadata": {
    "collapsed": true
   },
   "outputs": [],
   "source": [
    "import matplotlib.pyplot as plt\n",
    "import pandas as pd\n",
    "import numpy as np\n",
    "import seaborn, random\n",
    "\n",
    "from gridWorldEnvironment import GridWorld"
   ]
  },
  {
   "cell_type": "code",
   "execution_count": 2,
   "metadata": {
    "collapsed": true
   },
   "outputs": [],
   "source": [
    "# creating gridworld environment\n",
    "gw = GridWorld(gamma = .9)"
   ]
  },
  {
   "cell_type": "code",
   "execution_count": 7,
   "metadata": {
    "collapsed": true
   },
   "outputs": [],
   "source": [
    "def state_action_value(env):\n",
    "    q = dict()\n",
    "    for state, action, next_state, reward in env.transitions:\n",
    "        q[(state, action)] = np.random.normal()\n",
    "    return q"
   ]
  },
  {
   "cell_type": "code",
   "execution_count": 9,
   "metadata": {
    "collapsed": true
   },
   "outputs": [],
   "source": [
    "def e_greedy(env, e, q, state):\n",
    "    actions = env.actions\n",
    "    action_values = []\n",
    "    prob = []\n",
    "    for action in actions:\n",
    "        action_values.append(q[(state, action)])\n",
    "    for i in range(len(action_values)):\n",
    "        if i == np.argmax(action_values):\n",
    "            prob.append(1 - e + e/len(action_values))\n",
    "        else:\n",
    "            prob.append(e/len(action_values))\n",
    "    return actions, prob"
   ]
  },
  {
   "cell_type": "code",
   "execution_count": 10,
   "metadata": {
    "collapsed": true
   },
   "outputs": [],
   "source": [
    "def generate_e_greedy_policy(env, e, Q):\n",
    "    pi = dict()\n",
    "    for state in env.states:\n",
    "        pi[state] = e_greedy(env, e, Q, state)\n",
    "    return pi"
   ]
  },
  {
   "cell_type": "code",
   "execution_count": 11,
   "metadata": {
    "collapsed": true
   },
   "outputs": [],
   "source": [
    "def generate_random_policy(env):\n",
    "    pi = dict()\n",
    "    for state in env.states:\n",
    "        actions = []\n",
    "        prob = []\n",
    "        for action in env.actions:\n",
    "            actions.append(action)\n",
    "            prob.append(0.25)\n",
    "        pi[state] = (actions, prob)\n",
    "    return pi"
   ]
  },
  {
   "cell_type": "markdown",
   "metadata": {},
   "source": [
    "### $n$-step off-policy learning\n",
    "- Calculates importance sampling ratio, by taking advantage of two policies (```pi``` and ```b```)"
   ]
  },
  {
   "cell_type": "code",
   "execution_count": 14,
   "metadata": {
    "collapsed": true
   },
   "outputs": [],
   "source": [
    "def n_step_off_policy_learning(env, b, epsilon, alpha, n, num_iter, learn_pi = True):\n",
    "    Q = state_action_value(env)\n",
    "    pi = generate_e_greedy_policy(env, epsilon, Q) \n",
    "\n",
    "    for _ in range(num_iter):\n",
    "        current_state = np.random.choice(env.states)\n",
    "        action = np.random.choice(b[current_state][0], p = b[current_state][1])\n",
    "        state_trace, action_trace, reward_trace  = [current_state], [action], [0]\n",
    "        t, T = 0, 10000\n",
    "        while True:\n",
    "            if t < T:    \n",
    "                next_state, reward = env.state_transition(current_state, action)\n",
    "                state_trace.append(next_state)\n",
    "                reward_trace.append(reward)\n",
    "                if next_state == 0:\n",
    "                    T = t + 1\n",
    "                else:  \n",
    "                    action = np.random.choice(b[next_state][0], p = b[next_state][1])\n",
    "                    action_trace.append(action)\n",
    "                    \n",
    "            tau = t - n + 1\n",
    "            if tau >= 0:\n",
    "                rho = 1\n",
    "                for i in range(tau + 1, min([tau + n - 1, T - 1])):\n",
    "                    y = pi[state_trace[i]][1][pi[state_trace[i]][0].index(action_trace[i])]\n",
    "                    x = b[state_trace[i]][1][b[state_trace[i]][0].index(action_trace[i])]\n",
    "                    rho *= y / x\n",
    "                G = 0\n",
    "                for i in range(tau + 1, min([tau + n, T]) + 1):\n",
    "                    G += (env.gamma ** (i - tau - 1)) * reward_trace[i-1]\n",
    "                if tau + n < T:\n",
    "                    G += (env.gamma ** n) * Q[state_trace[tau + n], action_trace[tau + n]]\n",
    "                Q[state_trace[tau], action_trace[tau]] += alpha * rho * (G - Q[state_trace[tau], action_trace[tau]])\n",
    "                if learn_pi:\n",
    "                    pi[state_trace[tau]] = e_greedy(env, epsilon, Q, state_trace[tau])\n",
    "            current_state = next_state    \n",
    "#             print(state_trace, action_trace, reward_trace)\n",
    "            \n",
    "            if tau == (T-1):\n",
    "                break\n",
    "            t += 1\n",
    "            \n",
    "    return pi, Q"
   ]
  },
  {
   "cell_type": "code",
   "execution_count": 15,
   "metadata": {
    "collapsed": true
   },
   "outputs": [],
   "source": [
    "# any policy with random probabilities > 0\n",
    "b = generate_random_policy(gw)"
   ]
  },
  {
   "cell_type": "code",
   "execution_count": 16,
   "metadata": {
    "collapsed": true
   },
   "outputs": [],
   "source": [
    "pi, Q = n_step_off_policy_learning(gw, b, 0.2, 0.1, 2, 10)"
   ]
  },
  {
   "cell_type": "code",
   "execution_count": 44,
   "metadata": {},
   "outputs": [
    {
     "data": {
      "text/plain": [
       "{1: (('U', 'D', 'L', 'R'), [0.05, 0.05, 0.8500000000000001, 0.05]),\n",
       " 2: (('U', 'D', 'L', 'R'), [0.05, 0.05, 0.8500000000000001, 0.05]),\n",
       " 3: (('U', 'D', 'L', 'R'), [0.05, 0.8500000000000001, 0.05, 0.05]),\n",
       " 4: (('U', 'D', 'L', 'R'), [0.8500000000000001, 0.05, 0.05, 0.05]),\n",
       " 5: (('U', 'D', 'L', 'R'), [0.8500000000000001, 0.05, 0.05, 0.05]),\n",
       " 6: (('U', 'D', 'L', 'R'), [0.05, 0.8500000000000001, 0.05, 0.05]),\n",
       " 7: (('U', 'D', 'L', 'R'), [0.05, 0.8500000000000001, 0.05, 0.05]),\n",
       " 8: (('U', 'D', 'L', 'R'), [0.8500000000000001, 0.05, 0.05, 0.05]),\n",
       " 9: (('U', 'D', 'L', 'R'), [0.8500000000000001, 0.05, 0.05, 0.05]),\n",
       " 10: (('U', 'D', 'L', 'R'), [0.05, 0.05, 0.05, 0.8500000000000001]),\n",
       " 11: (('U', 'D', 'L', 'R'), [0.05, 0.8500000000000001, 0.05, 0.05]),\n",
       " 12: (('U', 'D', 'L', 'R'), [0.8500000000000001, 0.05, 0.05, 0.05]),\n",
       " 13: (('U', 'D', 'L', 'R'), [0.05, 0.05, 0.05, 0.8500000000000001]),\n",
       " 14: (('U', 'D', 'L', 'R'), [0.05, 0.05, 0.05, 0.8500000000000001])}"
      ]
     },
     "execution_count": 44,
     "metadata": {},
     "output_type": "execute_result"
    }
   ],
   "source": [
    "pi"
   ]
  },
  {
   "cell_type": "markdown",
   "metadata": {},
   "source": [
    "### Visualizing policy"
   ]
  },
  {
   "cell_type": "code",
   "execution_count": 37,
   "metadata": {
    "collapsed": true
   },
   "outputs": [],
   "source": [
    "def show_policy(pi, env):\n",
    "    temp = np.zeros(len(env.states) + 2)\n",
    "    for s in env.states:\n",
    "        a = pi[s][0][np.argmax(pi[s][1])]\n",
    "        if a == \"U\":\n",
    "            temp[s] = 0.25\n",
    "        elif a == \"D\":\n",
    "            temp[s] = 0.5\n",
    "        elif a == \"R\":\n",
    "            temp[s] = 0.75\n",
    "        else:\n",
    "            temp[s] = 1.0\n",
    "            \n",
    "    temp = temp.reshape(4,4)\n",
    "    ax = seaborn.heatmap(temp, cmap = \"prism\", linecolor=\"#282828\", cbar = False, linewidths = 0.1)\n",
    "    plt.show()"
   ]
  },
  {
   "cell_type": "code",
   "execution_count": 47,
   "metadata": {},
   "outputs": [
    {
     "data": {
      "image/png": "[encoded data removed]",
      "text/plain": [
       "<matplotlib.figure.Figure at 0x1e46da7e710>"
      ]
     },
     "metadata": {},
     "output_type": "display_data"
    }
   ],
   "source": [
    "### RED = TERMINAL (0)\n",
    "### GREEN = LEFT\n",
    "### BLUE = UP\n",
    "### PURPLE = RIGHT\n",
    "### ORANGE = DOWN\n",
    "\n",
    "show_policy(pi, gw)"
   ]
  },
  {
   "cell_type": "code",
   "execution_count": 19,
   "metadata": {
    "collapsed": true
   },
   "outputs": [],
   "source": [
    "def avg_over_actions(pi, Q, state):\n",
    "    actions, probs = pi[state]\n",
    "    q_values = np.zeros(4)\n",
    "    for s, a in Q.keys():\n",
    "        if s == state:\n",
    "            q_values[actions.index(a)] = Q[s,a]\n",
    "    return np.dot(q_values, probs)"
   ]
  },
  {
   "cell_type": "code",
   "execution_count": 29,
   "metadata": {},
   "outputs": [
    {
     "data": {
      "text/plain": [
       "{1: (('U', 'D', 'L', 'R'), [0.025, 0.025, 0.025, 0.925]),\n",
       " 2: (('U', 'D', 'L', 'R'), [0.925, 0.025, 0.025, 0.025]),\n",
       " 3: (('U', 'D', 'L', 'R'), [0.025, 0.025, 0.025, 0.925]),\n",
       " 4: (('U', 'D', 'L', 'R'), [0.025, 0.025, 0.025, 0.925]),\n",
       " 5: (('U', 'D', 'L', 'R'), [0.025, 0.025, 0.925, 0.025]),\n",
       " 6: (('U', 'D', 'L', 'R'), [0.025, 0.925, 0.025, 0.025]),\n",
       " 7: (('U', 'D', 'L', 'R'), [0.025, 0.025, 0.925, 0.025]),\n",
       " 8: (('U', 'D', 'L', 'R'), [0.025, 0.025, 0.025, 0.925]),\n",
       " 9: (('U', 'D', 'L', 'R'), [0.025, 0.025, 0.925, 0.025]),\n",
       " 10: (('U', 'D', 'L', 'R'), [0.025, 0.025, 0.025, 0.925]),\n",
       " 11: (('U', 'D', 'L', 'R'), [0.025, 0.025, 0.025, 0.925]),\n",
       " 12: (('U', 'D', 'L', 'R'), [0.025, 0.925, 0.025, 0.025]),\n",
       " 13: (('U', 'D', 'L', 'R'), [0.925, 0.025, 0.025, 0.025]),\n",
       " 14: (('U', 'D', 'L', 'R'), [0.925, 0.025, 0.025, 0.025])}"
      ]
     },
     "execution_count": 29,
     "metadata": {},
     "output_type": "execute_result"
    }
   ],
   "source": [
    "generate_e_greedy_policy(gw, 0.1, Q)"
   ]
  },
  {
   "cell_type": "code",
   "execution_count": 32,
   "metadata": {
    "collapsed": true
   },
   "outputs": [],
   "source": [
    "def n_step_tree_backup(env, epsilon, alpha, n, num_iter, learn_pi = True):\n",
    "    Q = state_action_value(env)\n",
    "    Q_, pi_, delta = dict(), dict(), dict()  \n",
    "    pi = generate_e_greedy_policy(env, epsilon, Q) \n",
    "\n",
    "    for _ in range(num_iter):\n",
    "        current_state = np.random.choice(env.states)\n",
    "        action = np.random.choice(b[current_state][0], p = b[current_state][1])\n",
    "        state_trace, action_trace, reward_trace  = [current_state], [action], [0]\n",
    "        Q_[0] = Q[current_state, action]\n",
    "        t, T = 0, 10000\n",
    "        while True:\n",
    "            if t < T:    \n",
    "                next_state, reward = env.state_transition(current_state, action)\n",
    "                state_trace.append(next_state)\n",
    "                reward_trace.append(reward)\n",
    "                if next_state == 0:\n",
    "                    T = t + 1\n",
    "                    delta[t] = reward - Q_[t]\n",
    "                else:  \n",
    "                    delta[t] = reward + env.gamma * avg_over_actions(pi, Q, next_state) - Q_[t]\n",
    "                    action = np.random.choice(pi[next_state][0], p = pi[next_state][1])\n",
    "                    action_trace.append(action)\n",
    "                    Q_[t+1] = Q[next_state, action]\n",
    "                    pi_[t+1] = pi[next_state][1][pi[next_state][0].index(action)]\n",
    "                    \n",
    "            tau = t - n + 1\n",
    "            if tau >= 0:\n",
    "                Z = 1\n",
    "                G = Q_[tau]\n",
    "                for i in range(tau, min([tau + n -1, T-1])):\n",
    "                    G += Z * delta[i]\n",
    "                    Z *= env.gamma * pi_[i+1]\n",
    "                Q[state_trace[tau], action_trace[tau]] += alpha * (G - Q[state_trace[tau], action_trace[tau]])\n",
    "                if learn_pi:\n",
    "                    pi[state_trace[tau]] = e_greedy(env, epsilon, Q, state_trace[tau])\n",
    "            current_state = next_state    \n",
    "#             print(state_trace, action_trace, reward_trace)\n",
    "            \n",
    "            if tau == (T-1):\n",
    "                break\n",
    "            t += 1\n",
    "            \n",
    "    return pi, Q"
   ]
  },
  {
   "cell_type": "code",
   "execution_count": 39,
   "metadata": {
    "collapsed": true
   },
   "outputs": [],
   "source": [
    "pi, Q = n_step_tree_backup(gw, 0.2, 0.5, 1, 10000)"
   ]
  },
  {
   "cell_type": "code",
   "execution_count": 40,
   "metadata": {},
   "outputs": [
    {
     "data": {
      "image/png": "[encoded data removed]",
      "text/plain": [
       "<matplotlib.figure.Figure at 0x12f5bab06a0>"
      ]
     },
     "metadata": {},
     "output_type": "display_data"
    }
   ],
   "source": [
    "### RED = TERMINAL (0)\n",
    "### GREEN = LEFT\n",
    "### BLUE = UP\n",
    "### PURPLE = RIGHT\n",
    "### ORANGE = DOWN\n",
    "\n",
    "show_policy(pi, gw)"
   ]
  }
 ],
 "metadata": {
  "kernelspec": {
   "display_name": "Python 3",
   "language": "python",
   "name": "python3"
  },
  "language_info": {
   "codemirror_mode": {
    "name": "ipython",
    "version": 3
   },
   "file_extension": ".py",
   "mimetype": "text/x-python",
   "name": "python",
   "nbconvert_exporter": "python",
   "pygments_lexer": "ipython3",
   "version": "3.6.1"
  }
 },
 "nbformat": 4,
 "nbformat_minor": 2
}
