{
 "cells": [
  {
   "cell_type": "markdown",
   "metadata": {},
   "source": [
    "# Double Q-Learning\n",
    "- Algorithms from ```pp. 110 - 111``` in Sutton & Barto 2017\n",
    "- Double Q-learning algorithm employs to action-value functions (i.e., $Q_1 and Q_2$) to avoid maximization bias"
   ]
  },
  {
   "cell_type": "code",
   "execution_count": 15,
   "metadata": {
    "collapsed": true
   },
   "outputs": [],
   "source": [
    "import matplotlib.pyplot as plt\n",
    "import pandas as pd\n",
    "import numpy as np\n",
    "import seaborn, random\n",
    "\n",
    "from gridWorldEnvironment import GridWorld"
   ]
  },
  {
   "cell_type": "code",
   "execution_count": 16,
   "metadata": {
    "collapsed": true
   },
   "outputs": [],
   "source": [
    "# creating gridworld environment\n",
    "gw = GridWorld(gamma = .9, theta = .5)"
   ]
  },
  {
   "cell_type": "code",
   "execution_count": 17,
   "metadata": {
    "collapsed": true
   },
   "outputs": [],
   "source": [
    "def state_action_value(env):\n",
    "    q = dict()\n",
    "    for state, action, next_state, reward in env.transitions:\n",
    "        q[(state, action)] = np.random.normal()\n",
    "    for action in env.actions:\n",
    "        q[0, action] = 0\n",
    "    return q"
   ]
  },
  {
   "cell_type": "code",
   "execution_count": 18,
   "metadata": {
    "scrolled": true
   },
   "outputs": [
    {
     "data": {
      "text/plain": [
       "{(0, 'D'): 0,\n",
       " (0, 'L'): 0,\n",
       " (0, 'R'): 0,\n",
       " (0, 'U'): 0,\n",
       " (1, 'D'): 1.0159263422385194,\n",
       " (1, 'L'): -0.9015277224413166,\n",
       " (1, 'R'): -0.8401929147381398,\n",
       " (1, 'U'): -0.3866748964867951,\n",
       " (2, 'D'): -1.6171831004555488,\n",
       " (2, 'L'): -0.757413177831847,\n",
       " (2, 'R'): 1.1948020656778442,\n",
       " (2, 'U'): -0.6814167904466197,\n",
       " (3, 'D'): 0.8048046240684537,\n",
       " (3, 'L'): 0.5058075927359411,\n",
       " (3, 'R'): -0.2396998941031068,\n",
       " (3, 'U'): 0.2155229655857796,\n",
       " (4, 'D'): -1.6147931728590075,\n",
       " (4, 'L'): -0.7788455232241043,\n",
       " (4, 'R'): -1.4834265811813951,\n",
       " (4, 'U'): -0.6831094436413707,\n",
       " (5, 'D'): 0.553787569878218,\n",
       " (5, 'L'): -0.7535460982740707,\n",
       " (5, 'R'): -0.5446399864366045,\n",
       " (5, 'U'): 0.3275946472542217,\n",
       " (6, 'D'): 0.4967878126487371,\n",
       " (6, 'L'): -0.08765553689024165,\n",
       " (6, 'R'): 2.561671991266108,\n",
       " (6, 'U'): -0.6251803976764682,\n",
       " (7, 'D'): -1.4239033515729715,\n",
       " (7, 'L'): 0.8961390571157126,\n",
       " (7, 'R'): -1.752510423129062,\n",
       " (7, 'U'): 0.186255694272231,\n",
       " (8, 'D'): 2.0464864623182057,\n",
       " (8, 'L'): -1.4145441882793333,\n",
       " (8, 'R'): -0.01479790948318322,\n",
       " (8, 'U'): -0.5827888737714622,\n",
       " (9, 'D'): -1.99334821662137,\n",
       " (9, 'L'): -0.2143702145160287,\n",
       " (9, 'R'): 0.3093816164828963,\n",
       " (9, 'U'): -0.13810316479560683,\n",
       " (10, 'D'): -0.4286970274384264,\n",
       " (10, 'L'): -1.0313201895326287,\n",
       " (10, 'R'): 0.674733204171753,\n",
       " (10, 'U'): -0.06485579239030625,\n",
       " (11, 'D'): -1.08761491406436,\n",
       " (11, 'L'): 0.37568985747762257,\n",
       " (11, 'R'): 0.6549082083274831,\n",
       " (11, 'U'): -0.044872797471142374,\n",
       " (12, 'D'): -0.8474472601122482,\n",
       " (12, 'L'): -0.6624032631781939,\n",
       " (12, 'R'): 0.4720691318622512,\n",
       " (12, 'U'): -1.2333806138625314,\n",
       " (13, 'D'): -0.38599325593593187,\n",
       " (13, 'L'): -1.677564721893633,\n",
       " (13, 'R'): -1.1425774085316547,\n",
       " (13, 'U'): -1.3606173055898687,\n",
       " (14, 'D'): -1.1641372208339686,\n",
       " (14, 'L'): 1.1457975665987994,\n",
       " (14, 'R'): -1.012618770180745,\n",
       " (14, 'U'): -0.06091464445082383}"
      ]
     },
     "execution_count": 18,
     "metadata": {},
     "output_type": "execute_result"
    }
   ],
   "source": [
    "state_action_value(gw)"
   ]
  },
  {
   "cell_type": "code",
   "execution_count": 19,
   "metadata": {
    "collapsed": true
   },
   "outputs": [],
   "source": [
    "def generate_greedy_policy(env, Q):\n",
    "    pi = dict()\n",
    "    for state in env.states:\n",
    "        actions = []\n",
    "        q_values = []\n",
    "        prob = []\n",
    "        \n",
    "        for a in env.actions:\n",
    "            actions.append(a)\n",
    "            q_values.append(Q[state,a])   \n",
    "        for i in range(len(q_values)):\n",
    "            if i == np.argmax(q_values):\n",
    "                prob.append(1)\n",
    "            else:\n",
    "                prob.append(0)       \n",
    "                \n",
    "        pi[state] = (actions, prob)\n",
    "    return pi"
   ]
  },
  {
   "cell_type": "code",
   "execution_count": 20,
   "metadata": {
    "collapsed": true
   },
   "outputs": [],
   "source": [
    "def e_greedy(env, e, q, state):\n",
    "    actions = env.actions\n",
    "    action_values = []\n",
    "    prob = []\n",
    "    for action in actions:\n",
    "        action_values.append(q[(state, action)])\n",
    "    for i in range(len(action_values)):\n",
    "        if i == np.argmax(action_values):\n",
    "            prob.append(1 - e + e/len(action_values))\n",
    "        else:\n",
    "            prob.append(e/len(action_values))\n",
    "    return np.random.choice(actions, p = prob)"
   ]
  },
  {
   "cell_type": "code",
   "execution_count": 21,
   "metadata": {
    "collapsed": true
   },
   "outputs": [],
   "source": [
    "def greedy(env, q, state):\n",
    "    actions = env.actions\n",
    "    action_values = []\n",
    "    for action in actions:\n",
    "        action_values.append(q[state, action])\n",
    "    return actions[np.argmax(action_values)]"
   ]
  },
  {
   "cell_type": "markdown",
   "metadata": {},
   "source": [
    "### Double Q-learning"
   ]
  },
  {
   "cell_type": "code",
   "execution_count": 34,
   "metadata": {
    "collapsed": true
   },
   "outputs": [],
   "source": [
    "def double_q_learning(env, epsilon, alpha, num_iter):\n",
    "    Q1, Q2  = state_action_value(env), state_action_value(env)\n",
    "    for _ in range(num_iter):\n",
    "        current_state = np.random.choice(env.states)\n",
    "        while current_state != 0:\n",
    "            Q = dict()\n",
    "            for key in Q1.keys():\n",
    "                Q[key] = Q1[key] + Q2[key]\n",
    "            current_action = e_greedy(env, epsilon, Q, current_state)\n",
    "            next_state, reward = env.state_transition(current_state, current_action)\n",
    "            \n",
    "            # choose Q1 or Q2 with equal probabilities (0.5)\n",
    "            chosen_Q = np.random.choice([\"Q1\", \"Q2\"])\n",
    "            if chosen_Q == \"Q1\":    # when Q1 is chosen\n",
    "                best_action = greedy(env, Q1, next_state)\n",
    "                Q1[current_state, current_action] += alpha * \\\n",
    "                    (reward + env.gamma * Q2[next_state, best_action] - Q1[current_state, current_action])\n",
    "            else:                    # when Q2 is chosen\n",
    "                best_action = greedy(env, Q2, next_state)\n",
    "                Q2[current_state, current_action] += alpha * \\\n",
    "                    (reward + env.gamma * Q1[next_state, best_action] - Q2[current_state, current_action])\n",
    "                    \n",
    "            current_state = next_state\n",
    "    return Q1, Q2"
   ]
  },
  {
   "cell_type": "code",
   "execution_count": 38,
   "metadata": {
    "collapsed": true
   },
   "outputs": [],
   "source": [
    "Q1, Q2 = double_q_learning(gw, 0.2, 0.5, 5000)\n",
    "\n",
    "# sum Q1 & Q2 elementwise to obtain final Q-values\n",
    "Q = dict()\n",
    "for key in Q1.keys():\n",
    "    Q[key] = Q1[key] + Q2[key]"
   ]
  },
  {
   "cell_type": "code",
   "execution_count": 39,
   "metadata": {
    "collapsed": true
   },
   "outputs": [],
   "source": [
    "pi_hat = generate_greedy_policy(gw, Q)"
   ]
  },
  {
   "cell_type": "code",
   "execution_count": 32,
   "metadata": {
    "collapsed": true
   },
   "outputs": [],
   "source": [
    "def show_policy(pi, env):\n",
    "    temp = np.zeros(len(env.states) + 2)\n",
    "    for s in env.states:\n",
    "        a = pi_hat[s][0][np.argmax(pi_hat[s][1])]\n",
    "        if a == \"U\":\n",
    "            temp[s] = 0.25\n",
    "        elif a == \"D\":\n",
    "            temp[s] = 0.5\n",
    "        elif a == \"R\":\n",
    "            temp[s] = 0.75\n",
    "        else:\n",
    "            temp[s] = 1.0\n",
    "            \n",
    "    temp = temp.reshape(4,4)\n",
    "    ax = seaborn.heatmap(temp, cmap = \"prism\", linecolor=\"#282828\", cbar = False, linewidths = 0.1)\n",
    "    plt.show()"
   ]
  },
  {
   "cell_type": "code",
   "execution_count": 40,
   "metadata": {},
   "outputs": [
    {
     "data": {
      "image/png": "[encoded data removed]",
      "text/plain": [
       "<matplotlib.figure.Figure at 0x1da1fa52390>"
      ]
     },
     "metadata": {},
     "output_type": "display_data"
    }
   ],
   "source": [
    "### RED = TERMINAL (0)\n",
    "### GREEN = LEFT\n",
    "### BLUE = UP\n",
    "### PURPLE = RIGHT\n",
    "### ORANGE = DOWN\n",
    "\n",
    "show_policy(pi_hat, gw)"
   ]
  }
 ],
 "metadata": {
  "kernelspec": {
   "display_name": "Python 3",
   "language": "python",
   "name": "python3"
  },
  "language_info": {
   "codemirror_mode": {
    "name": "ipython",
    "version": 3
   },
   "file_extension": ".py",
   "mimetype": "text/x-python",
   "name": "python",
   "nbconvert_exporter": "python",
   "pygments_lexer": "ipython3",
   "version": "3.6.1"
  }
 },
 "nbformat": 4,
 "nbformat_minor": 2
}
