{
 "cells": [
  {
   "cell_type": "markdown",
   "metadata": {},
   "source": [
    "# SARSA\n",
    "- Algorithms from ```pp. 105 - 107``` in Sutton & Barto 2017"
   ]
  },
  {
   "cell_type": "code",
   "execution_count": 1,
   "metadata": {
    "collapsed": true
   },
   "outputs": [],
   "source": [
    "import matplotlib.pyplot as plt\n",
    "import pandas as pd\n",
    "import numpy as np\n",
    "import seaborn, random\n",
    "\n",
    "from gridWorldEnvironment import GridWorld"
   ]
  },
  {
   "cell_type": "code",
   "execution_count": 2,
   "metadata": {
    "collapsed": true
   },
   "outputs": [],
   "source": [
    "# creating gridworld environment\n",
    "gw = GridWorld(gamma = .9, theta = .5)"
   ]
  },
  {
   "cell_type": "code",
   "execution_count": 3,
   "metadata": {
    "collapsed": true
   },
   "outputs": [],
   "source": [
    "def state_action_value(env):\n",
    "    q = dict()\n",
    "    for state, action, next_state, reward in env.transitions:\n",
    "        q[(state, action)] = np.random.normal()\n",
    "    for action in env.actions:\n",
    "        q[0, action] = 0\n",
    "    return q"
   ]
  },
  {
   "cell_type": "code",
   "execution_count": 4,
   "metadata": {
    "scrolled": true
   },
   "outputs": [
    {
     "data": {
      "text/plain": [
       "{(0, 'D'): 0,\n",
       " (0, 'L'): 0,\n",
       " (0, 'R'): 0,\n",
       " (0, 'U'): 0,\n",
       " (1, 'D'): -1.4931958690513218,\n",
       " (1, 'L'): 0.45253247253698986,\n",
       " (1, 'R'): -1.789094792083647,\n",
       " (1, 'U'): 1.9103660029206884,\n",
       " (2, 'D'): -0.3082624959814856,\n",
       " (2, 'L'): -0.7483834716798741,\n",
       " (2, 'R'): 0.9839358952573672,\n",
       " (2, 'U'): -0.2724328270166447,\n",
       " (3, 'D'): -0.6283488057971491,\n",
       " (3, 'L'): -1.3156943242567214,\n",
       " (3, 'R'): 0.6211123056414489,\n",
       " (3, 'U'): 0.7976038544679848,\n",
       " (4, 'D'): -1.050452706273533,\n",
       " (4, 'L'): -0.1741895951805081,\n",
       " (4, 'R'): 1.8182867323493,\n",
       " (4, 'U'): 1.801387714646261,\n",
       " (5, 'D'): 0.10021107202221527,\n",
       " (5, 'L'): -0.47465610710346245,\n",
       " (5, 'R'): -0.6918872493076375,\n",
       " (5, 'U'): -3.2003225504816597,\n",
       " (6, 'D'): 0.6278525454978494,\n",
       " (6, 'L'): -0.24213713052505115,\n",
       " (6, 'R'): -2.630728473016553,\n",
       " (6, 'U'): 1.2604497963698,\n",
       " (7, 'D'): 0.7220353661454653,\n",
       " (7, 'L'): -0.046864386969943536,\n",
       " (7, 'R'): 0.3648650012222875,\n",
       " (7, 'U'): -0.13955201414490984,\n",
       " (8, 'D'): -0.73401777416155,\n",
       " (8, 'L'): 0.32247567696601837,\n",
       " (8, 'R'): 0.5780991299024739,\n",
       " (8, 'U'): -0.44090209956778376,\n",
       " (9, 'D'): 1.4691269385027337,\n",
       " (9, 'L'): 0.052954400141560456,\n",
       " (9, 'R'): 0.13195379460282597,\n",
       " (9, 'U'): -0.3923944749627829,\n",
       " (10, 'D'): 1.7199147774865016,\n",
       " (10, 'L'): -1.9247987278054801,\n",
       " (10, 'R'): -0.143510086697551,\n",
       " (10, 'U'): -0.5647971071775687,\n",
       " (11, 'D'): -0.5741454748190717,\n",
       " (11, 'L'): -1.5720736584714539,\n",
       " (11, 'R'): -1.4601134792863597,\n",
       " (11, 'U'): -1.257386467083216,\n",
       " (12, 'D'): -0.7472490605228015,\n",
       " (12, 'L'): -0.22563599050611213,\n",
       " (12, 'R'): 0.4395772978492674,\n",
       " (12, 'U'): -0.7210157758438556,\n",
       " (13, 'D'): 0.6291351870645969,\n",
       " (13, 'L'): -1.1313917732858065,\n",
       " (13, 'R'): 1.7365108020870084,\n",
       " (13, 'U'): 0.1339793058824657,\n",
       " (14, 'D'): 1.028938708862189,\n",
       " (14, 'L'): 0.050033944728027975,\n",
       " (14, 'R'): 1.3081957299962321,\n",
       " (14, 'U'): 0.05849306927859837}"
      ]
     },
     "execution_count": 4,
     "metadata": {},
     "output_type": "execute_result"
    }
   ],
   "source": [
    "state_action_value(gw)"
   ]
  },
  {
   "cell_type": "code",
   "execution_count": 5,
   "metadata": {
    "collapsed": true
   },
   "outputs": [],
   "source": [
    "def generate_greedy_policy(env, Q):\n",
    "    pi = dict()\n",
    "    for state in env.states:\n",
    "        actions = []\n",
    "        q_values = []\n",
    "        prob = []\n",
    "        \n",
    "        for a in env.actions:\n",
    "            actions.append(a)\n",
    "            q_values.append(Q[state,a])   \n",
    "        for i in range(len(q_values)):\n",
    "            if i == np.argmax(q_values):\n",
    "                prob.append(1)\n",
    "            else:\n",
    "                prob.append(0)       \n",
    "                \n",
    "        pi[state] = (actions, prob)\n",
    "    return pi"
   ]
  },
  {
   "cell_type": "code",
   "execution_count": 6,
   "metadata": {
    "collapsed": true
   },
   "outputs": [],
   "source": [
    "# selects action epsilon-greedily, given current state\n",
    "def e_greedy(env, e, q, state):\n",
    "    actions = env.actions\n",
    "    action_values = []\n",
    "    prob = []\n",
    "    for action in actions:\n",
    "        action_values.append(q[(state, action)])\n",
    "    for i in range(len(action_values)):\n",
    "        if i == np.argmax(action_values):\n",
    "            prob.append(1 - e + e/len(action_values))\n",
    "        else:\n",
    "            prob.append(e/len(action_values))\n",
    "    return np.random.choice(actions, p = prob)"
   ]
  },
  {
   "cell_type": "markdown",
   "metadata": {
    "collapsed": true
   },
   "source": [
    "### SARSA: On-policy TD Control\n",
    "- Evaluates action-value function ($Q$)"
   ]
  },
  {
   "cell_type": "code",
   "execution_count": 7,
   "metadata": {
    "collapsed": true
   },
   "outputs": [],
   "source": [
    "def sarsa(env, epsilon, alpha, num_iter):\n",
    "    Q = state_action_value(env)\n",
    "    for _ in range(num_iter):\n",
    "        current_state = np.random.choice(env.states)\n",
    "        current_action = e_greedy(env, epsilon, Q, current_state)\n",
    "        while current_state != 0:\n",
    "            next_state, reward = env.state_transition(current_state, current_action)\n",
    "            next_action = e_greedy(env, epsilon, Q, next_state)\n",
    "            Q[current_state, current_action] += alpha * (reward + env.gamma * Q[next_state, next_action] - Q[current_state, current_action])\n",
    "            current_state, current_action = next_state, next_action\n",
    "    return Q"
   ]
  },
  {
   "cell_type": "code",
   "execution_count": 8,
   "metadata": {
    "collapsed": true
   },
   "outputs": [],
   "source": [
    "Q = sarsa(gw, 0.1, 0.5, 10000)"
   ]
  },
  {
   "cell_type": "code",
   "execution_count": 9,
   "metadata": {
    "collapsed": true
   },
   "outputs": [],
   "source": [
    "pi_hat = generate_greedy_policy(gw, Q)"
   ]
  },
  {
   "cell_type": "markdown",
   "metadata": {},
   "source": [
    "### Visualizing policy"
   ]
  },
  {
   "cell_type": "code",
   "execution_count": 10,
   "metadata": {
    "collapsed": true
   },
   "outputs": [],
   "source": [
    "def show_policy(pi, env):\n",
    "    temp = np.zeros(len(env.states) + 2)\n",
    "    for s in env.states:\n",
    "        a = pi_hat[s][0][np.argmax(pi_hat[s][1])]\n",
    "        if a == \"U\":\n",
    "            temp[s] = 0.25\n",
    "        elif a == \"D\":\n",
    "            temp[s] = 0.5\n",
    "        elif a == \"R\":\n",
    "            temp[s] = 0.75\n",
    "        else:\n",
    "            temp[s] = 1.0\n",
    "            \n",
    "    temp = temp.reshape(4,4)\n",
    "    ax = seaborn.heatmap(temp, cmap = \"prism\", linecolor=\"#282828\", cbar = False, linewidths = 0.1)\n",
    "    plt.show()"
   ]
  },
  {
   "cell_type": "code",
   "execution_count": 11,
   "metadata": {},
   "outputs": [
    {
     "data": {
      "image/png": "[encoded data removed]",
      "text/plain": [
       "<matplotlib.figure.Figure at 0x1cf45ee0048>"
      ]
     },
     "metadata": {},
     "output_type": "display_data"
    }
   ],
   "source": [
    "### RED = TERMINAL (0)\n",
    "### GREEN = LEFT\n",
    "### BLUE = UP\n",
    "### PURPLE = RIGHT\n",
    "### ORANGE = DOWN\n",
    "\n",
    "show_policy(pi_hat, gw)"
   ]
  }
 ],
 "metadata": {
  "kernelspec": {
   "display_name": "Python 3",
   "language": "python",
   "name": "python3"
  },
  "language_info": {
   "codemirror_mode": {
    "name": "ipython",
    "version": 3
   },
   "file_extension": ".py",
   "mimetype": "text/x-python",
   "name": "python",
   "nbconvert_exporter": "python",
   "pygments_lexer": "ipython3",
   "version": "3.6.1"
  }
 },
 "nbformat": 4,
 "nbformat_minor": 2
}
