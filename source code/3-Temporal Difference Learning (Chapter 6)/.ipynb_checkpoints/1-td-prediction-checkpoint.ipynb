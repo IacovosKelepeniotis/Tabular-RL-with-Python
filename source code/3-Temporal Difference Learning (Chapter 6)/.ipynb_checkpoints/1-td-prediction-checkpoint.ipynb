{
 "cells": [
  {
   "cell_type": "markdown",
   "metadata": {},
   "source": [
    "# Temporal-Difference Prediction (TD(0))\n",
    "- Algorithms from ```pp. 97 - 105``` in Sutton & Barto 2017"
   ]
  },
  {
   "cell_type": "code",
   "execution_count": 1,
   "metadata": {
    "collapsed": true
   },
   "outputs": [],
   "source": [
    "import matplotlib.pyplot as plt\n",
    "import pandas as pd\n",
    "import numpy as np\n",
    "import seaborn, random\n",
    "\n",
    "from gridWorldEnvironment import GridWorld"
   ]
  },
  {
   "cell_type": "code",
   "execution_count": 2,
   "metadata": {
    "collapsed": true
   },
   "outputs": [],
   "source": [
    "# creating gridworld environment\n",
    "gw = GridWorld(gamma = .9, theta = .5)"
   ]
  },
  {
   "cell_type": "markdown",
   "metadata": {},
   "source": [
    "### Generate value array"
   ]
  },
  {
   "cell_type": "code",
   "execution_count": 3,
   "metadata": {
    "collapsed": true
   },
   "outputs": [],
   "source": [
    "def value_array(env):\n",
    "    return np.zeros(len(env.states)+2)"
   ]
  },
  {
   "cell_type": "markdown",
   "metadata": {},
   "source": [
    "### Generate policy"
   ]
  },
  {
   "cell_type": "code",
   "execution_count": 4,
   "metadata": {
    "collapsed": true
   },
   "outputs": [],
   "source": [
    "def generate_any_policy(env):\n",
    "    pi = dict()\n",
    "    for state in env.states:\n",
    "        r = sorted(np.random.sample(3))\n",
    "        actions = env.actions\n",
    "        prob = [r[0], r[1] - r[0], r[2] - r[1], 1-r[2]]\n",
    "        pi[state] = (actions, prob)\n",
    "    return pi   "
   ]
  },
  {
   "cell_type": "markdown",
   "metadata": {},
   "source": [
    "### Generate episode\n",
    "- Generate stochastic (non-deterministic) episode, given current policy $\\pi$"
   ]
  },
  {
   "cell_type": "code",
   "execution_count": 6,
   "metadata": {
    "collapsed": true
   },
   "outputs": [],
   "source": [
    "def generate_episode(env, s0, a0, policy):\n",
    "    episode = []\n",
    "    done = False\n",
    "    current_state, action = s0, a0\n",
    "    episode.append((current_state, action, -1))\n",
    "    \n",
    "    while not done:\n",
    "        next_state, reward = gw.state_transition(current_state, action)\n",
    "        pr = policy[current_state][1]\n",
    "        ## to make non-deterministic episode (mostly to avoid infinite episode due to greediness)\n",
    "        pr[np.argmax(pr)] -= .2\n",
    "        pr[np.random.choice(np.delete(np.arange(4), np.argmax(pr)))] += .1\n",
    "        pr[np.random.choice(np.delete(np.arange(4), np.argmax(pr)))] += .05\n",
    "        pr[np.random.choice(np.delete(np.arange(4), np.argmax(pr)))] += .05\n",
    "        ##\n",
    "        action = np.random.choice(policy[current_state][0], p = pr)\n",
    "        episode.append((next_state, action, reward))\n",
    "        \n",
    "        if next_state == 0:   \n",
    "            done = True\n",
    "        current_state = next_state\n",
    "    return episode[:-1]"
   ]
  },
  {
   "cell_type": "code",
   "execution_count": 7,
   "metadata": {},
   "outputs": [
    {
     "data": {
      "text/plain": [
       "[(1, 'U', -1), (1, 'L', -1)]"
      ]
     },
     "execution_count": 7,
     "metadata": {},
     "output_type": "execute_result"
    }
   ],
   "source": [
    "pi = generate_any_policy(gw)\n",
    "generate_episode(gw, 1, \"U\", pi)"
   ]
  },
  {
   "cell_type": "markdown",
   "metadata": {},
   "source": [
    "### Tabular TD(0)\n",
    "- Estimates $v_\\pi$, given current policy $\\pi$"
   ]
  },
  {
   "cell_type": "code",
   "execution_count": 1,
   "metadata": {
    "collapsed": true
   },
   "outputs": [],
   "source": [
    "# alpha corresponds to learning rate (i.e., step size)\n",
    "def tabular_td(env, alpha, num_iter):\n",
    "    V = value_array(env)\n",
    "    pi = generate_any_policy(env)\n",
    "    \n",
    "    for _ in range(num_iter):\n",
    "        s0, a0 = np.random.choice(env.states), np.random.choice(env.actions)\n",
    "        episode = generate_episode(env, s0, a0, pi)\n",
    "        already_visited = set()\n",
    "        \n",
    "        for step in range(len(episode)):\n",
    "            current_state, action = episode[step][0], episode[step][1]\n",
    "            next_state, reward = env.state_transition(current_state, action)\n",
    "            V[current_state] += alpha * (reward + env.gamma * V[next_state] - V[current_state])            \n",
    "    return V"
   ]
  },
  {
   "cell_type": "code",
   "execution_count": 9,
   "metadata": {
    "collapsed": true
   },
   "outputs": [],
   "source": [
    "values = tabular_td(gw, .5, 100)"
   ]
  },
  {
   "cell_type": "code",
   "execution_count": 10,
   "metadata": {
    "collapsed": true
   },
   "outputs": [],
   "source": [
    "def show_values(values):\n",
    "    values = values.reshape(4,4)\n",
    "    ax = seaborn.heatmap(values, cmap = \"Blues_r\", annot = True, linecolor=\"#282828\", linewidths = 0.1)\n",
    "    plt.show()"
   ]
  },
  {
   "cell_type": "code",
   "execution_count": 11,
   "metadata": {},
   "outputs": [
    {
     "data": {
      "image/png": "[encoded data removed]",
      "text/plain": [
       "<matplotlib.figure.Figure at 0x20bd0f16208>"
      ]
     },
     "metadata": {},
     "output_type": "display_data"
    }
   ],
   "source": [
    "show_values(values)"
   ]
  }
 ],
 "metadata": {
  "kernelspec": {
   "display_name": "Python 3",
   "language": "python",
   "name": "python3"
  },
  "language_info": {
   "codemirror_mode": {
    "name": "ipython",
    "version": 3
   },
   "file_extension": ".py",
   "mimetype": "text/x-python",
   "name": "python",
   "nbconvert_exporter": "python",
   "pygments_lexer": "ipython3",
   "version": "3.6.1"
  }
 },
 "nbformat": 4,
 "nbformat_minor": 2
}
