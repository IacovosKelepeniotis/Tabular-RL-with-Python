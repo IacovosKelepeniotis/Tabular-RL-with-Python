{
 "cells": [
  {
   "cell_type": "markdown",
   "metadata": {},
   "source": [
    "# Monte Carlo Prediction\n",
    "- Algorithms from ```pp. 76 - 78``` in Sutton & Barto 2017\n",
    "- Estimates state-value function $ V \\approx v_\\pi $ for a given policy $ \\pi $"
   ]
  },
  {
   "cell_type": "code",
   "execution_count": 1,
   "metadata": {
    "collapsed": true
   },
   "outputs": [],
   "source": [
    "import matplotlib.pyplot as plt\n",
    "import pandas as pd\n",
    "import numpy as np\n",
    "import seaborn\n",
    "\n",
    "from gridWorldEnvironment import GridWorld"
   ]
  },
  {
   "cell_type": "code",
   "execution_count": 43,
   "metadata": {
    "collapsed": true
   },
   "outputs": [],
   "source": [
    "# creating gridworld environment\n",
    "gw = GridWorld(gamma = .9, theta = .5)"
   ]
  },
  {
   "cell_type": "markdown",
   "metadata": {},
   "source": [
    "### Generate random episode\n",
    "- For Monte Carlo methods, random episodes from starting state to terminal state should be generated in advance\n",
    "    - Random episode below follows equiprobable random policy (i.e., same probabilities for each action)"
   ]
  },
  {
   "cell_type": "code",
   "execution_count": 59,
   "metadata": {
    "collapsed": true,
    "scrolled": true
   },
   "outputs": [],
   "source": [
    "def generate_random_episode(env):\n",
    "    episode = []\n",
    "    done = False\n",
    "    current_state = np.random.choice(env.states)\n",
    "    episode.append((current_state, -1))\n",
    "    while not done:\n",
    "        action = np.random.choice(env.actions)\n",
    "        next_state, reward = gw.state_transition(current_state, action)\n",
    "        episode.append((next_state, reward))\n",
    "        if next_state == 0:\n",
    "            done = True\n",
    "        current_state = next_state\n",
    "    return episode"
   ]
  },
  {
   "cell_type": "code",
   "execution_count": 60,
   "metadata": {},
   "outputs": [
    {
     "data": {
      "text/plain": [
       "[(5, -1),\n",
       " (9, -1),\n",
       " (8, -1),\n",
       " (12, -1),\n",
       " (13, -1),\n",
       " (9, -1),\n",
       " (5, -1),\n",
       " (9, -1),\n",
       " (5, -1),\n",
       " (9, -1),\n",
       " (5, -1),\n",
       " (9, -1),\n",
       " (13, -1),\n",
       " (14, -1),\n",
       " (0, -1)]"
      ]
     },
     "execution_count": 60,
     "metadata": {},
     "output_type": "execute_result"
    }
   ],
   "source": [
    "generate_random_episode(gw)"
   ]
  },
  {
   "cell_type": "markdown",
   "metadata": {},
   "source": [
    "### Create and initialize value array\n",
    "- Values in indices 0 and -1 are for terminal states ```((0,0)``` and ```(3,3))```"
   ]
  },
  {
   "cell_type": "code",
   "execution_count": 63,
   "metadata": {
    "collapsed": true
   },
   "outputs": [],
   "source": [
    "def value_array(env):\n",
    "    return np.zeros(len(env.states)+2)"
   ]
  },
  {
   "cell_type": "markdown",
   "metadata": {},
   "source": [
    "### First-visit MC Prediction\n",
    "- Estimates $v_\\pi(s)$ as the average of the returns following first visit to $s$\n",
    "    - Most widely studied (from 1940s)"
   ]
  },
  {
   "cell_type": "code",
   "execution_count": 90,
   "metadata": {
    "collapsed": true
   },
   "outputs": [],
   "source": [
    "def first_visit_mc(env, num_iter):\n",
    "    values = value_array(env)\n",
    "    returns = dict()\n",
    "    for state in env.states:\n",
    "        returns[state] = list()\n",
    "    \n",
    "    for i in range(num_iter):\n",
    "        episode = generate_random_episode(env)\n",
    "        already_visited = set({0})   # also exclude terminal state (0)\n",
    "        for s, r in episode:\n",
    "            if s not in already_visited:\n",
    "                already_visited.add(s)\n",
    "                idx = episode.index((s, r))\n",
    "                G = 0\n",
    "                j = 1\n",
    "                while j + idx < len(episode):\n",
    "                    G = env.gamma * (G + episode[j + idx][1])\n",
    "                    j += 1\n",
    "                returns[s].append(G)\n",
    "                values[s] = np.mean(returns[s])\n",
    "    return values, returns            "
   ]
  },
  {
   "cell_type": "code",
   "execution_count": 1,
   "metadata": {
    "collapsed": true
   },
   "outputs": [],
   "source": [
    "%%time\n",
    "values, returns = first_visit_mc(gw, 10000)"
   ]
  },
  {
   "cell_type": "code",
   "execution_count": 92,
   "metadata": {},
   "outputs": [
    {
     "data": {
      "text/plain": [
       "array([ 0.        , -4.72154148, -6.40347919, -6.88012429, -4.6794661 ,\n",
       "       -5.91059736, -6.44069098, -6.46420059, -6.40331047, -6.44837602,\n",
       "       -5.94160322, -4.78286142, -6.90203822, -6.41543341, -4.71824484,  0.        ])"
      ]
     },
     "execution_count": 92,
     "metadata": {},
     "output_type": "execute_result"
    }
   ],
   "source": [
    "# obtained values\n",
    "values"
   ]
  },
  {
   "cell_type": "markdown",
   "metadata": {},
   "source": [
    "### Visualizing values\n",
    "- Visualizing values in table\n",
    "    - lighter color in table means higher value for random policy"
   ]
  },
  {
   "cell_type": "code",
   "execution_count": 93,
   "metadata": {
    "collapsed": true
   },
   "outputs": [],
   "source": [
    "def show_values(values):\n",
    "    values = values.reshape(4,4)\n",
    "    ax = seaborn.heatmap(values, cmap = \"Blues_r\", annot = True, linecolor=\"#282828\", linewidths = 0.1)\n",
    "    plt.show()"
   ]
  },
  {
   "cell_type": "code",
   "execution_count": 94,
   "metadata": {},
   "outputs": [
    {
     "data": {
      "image/png": "[encoded data removed]",
      "text/plain": [
       "<matplotlib.figure.Figure at 0x1a2f38617b8>"
      ]
     },
     "metadata": {},
     "output_type": "display_data"
    }
   ],
   "source": [
    "show_values(values)"
   ]
  },
  {
   "cell_type": "markdown",
   "metadata": {},
   "source": [
    "### Every-visit MC Prediction\n",
    "- Simply averages the returns following all visits to $s$"
   ]
  },
  {
   "cell_type": "code",
   "execution_count": 96,
   "metadata": {
    "collapsed": true
   },
   "outputs": [],
   "source": [
    "def every_visit_mc(env, num_iter):\n",
    "    values = value_array(env)\n",
    "    returns = dict()\n",
    "    for state in env.states:\n",
    "        returns[state] = list()\n",
    "    \n",
    "    for i in range(num_iter):\n",
    "        episode = generate_random_episode(env)\n",
    "        for s, r in episode:\n",
    "            if s != 0:    # exclude terminal state (0)\n",
    "                idx = episode.index((s, r))\n",
    "                G = 0\n",
    "                j = 1\n",
    "                while j + idx < len(episode):\n",
    "                    G = env.gamma * (G + episode[j + idx][1])\n",
    "                    j += 1\n",
    "                returns[s].append(G)\n",
    "                values[s] = np.mean(returns[s])\n",
    "    return values, returns"
   ]
  },
  {
   "cell_type": "code",
   "execution_count": 97,
   "metadata": {},
   "outputs": [
    {
     "name": "stdout",
     "output_type": "stream",
     "text": [
      "Wall time: 39.4 s\n"
     ]
    }
   ],
   "source": [
    "%%time\n",
    "values, returns = every_visit_mc(gw, 10000)"
   ]
  },
  {
   "cell_type": "code",
   "execution_count": 98,
   "metadata": {},
   "outputs": [
    {
     "data": {
      "text/plain": [
       "array([ 0.        , -5.92897574, -7.4409083 , -7.75297674, -5.97437727,\n",
       "       -7.08216599, -7.52697816, -7.42867667, -7.46986881, -7.51456346,\n",
       "       -7.04226959, -5.88215225, -7.7499684 , -7.45466395, -5.85762017,  0.        ])"
      ]
     },
     "execution_count": 98,
     "metadata": {},
     "output_type": "execute_result"
    }
   ],
   "source": [
    "# obtained values\n",
    "values"
   ]
  },
  {
   "cell_type": "code",
   "execution_count": 99,
   "metadata": {},
   "outputs": [
    {
     "data": {
      "image/png": "[encoded data removed]",
      "text/plain": [
       "<matplotlib.figure.Figure at 0x1a2f32cb0f0>"
      ]
     },
     "metadata": {},
     "output_type": "display_data"
    }
   ],
   "source": [
    "show_values(values)"
   ]
  }
 ],
 "metadata": {
  "kernelspec": {
   "display_name": "Python 3",
   "language": "python",
   "name": "python3"
  },
  "language_info": {
   "codemirror_mode": {
    "name": "ipython",
    "version": 3
   },
   "file_extension": ".py",
   "mimetype": "text/x-python",
   "name": "python",
   "nbconvert_exporter": "python",
   "pygments_lexer": "ipython3",
   "version": "3.6.1"
  }
 },
 "nbformat": 4,
 "nbformat_minor": 2
}
